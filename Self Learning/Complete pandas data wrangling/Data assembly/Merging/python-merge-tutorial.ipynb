{
 "cells": [
  {
   "cell_type": "code",
   "execution_count": 1,
   "metadata": {
    "_cell_guid": "57fefc25-24ac-41e6-8a30-3b3c5876a05d",
    "_kg_hide-input": true,
    "_uuid": "0f1a422a84c5cda9f22633423d90deb38af4b8d6"
   },
   "outputs": [],
   "source": [
    "import pandas as pd\n",
    "import numpy as np\n",
    "\n",
    "# Create dataframes for examples\n",
    "left_dataframe = pd.DataFrame({\"ID\": [1,2,3,4], \"left_side\": \"LEFT\"})\n",
    "right_dataframe = pd.DataFrame({\"ID\": [3,4,5,6], \"right_side\": \"RIGHT\"})\n"
   ]
  },
  {
   "cell_type": "markdown",
   "metadata": {
    "_cell_guid": "c37c2758-a8d7-4c29-a79f-bcda7c2aaffb",
    "_uuid": "edeeb10763b463e8db55657a056be15f0178ed67"
   },
   "source": [
    "# Merge\n",
    "---\n",
    "*Merging with Pandas works pretty much the same as SQL. So if you have SQL experience and you only need to know the Python syntax, you can scroll through this.*\n",
    "<br><br>\n",
    "\n",
    "When you're working on a data science project, you'll often start from multiple data tables that have various bits of information that you would like to see all in one place. Unfortunately, simply copying and pasting rows of data onto each other just isn't the way it works. Merge is an important tool to have because it allows you to efficiently combine data tables together in a nice and orderly fashion. In this tutorial we're starting from multiple data tables in the form of CSV files. So take a moment to look at the data we'll be using. \n",
    "<br><br>\n",
    "\n",
    "\n",
    "# Understanding Merge\n",
    "\n",
    "Let's begin with a basic line of code that merges two dataframes into one. With this command we're collecting all the rows of data from both dataframes and lining them up based on values in \"some_column\" that are common to both dataframes.\n",
    "\n",
    "```python\n",
    "pd.merge(left_dataframe, right_dataframe, on=\"some_column\", how=\"left|right|inner|outer)`\n",
    "```\n",
    "- A **LEFT** dataframe is whichever one you type first.\n",
    "- A **RIGHT** dataframe is whichever one you type second.\n",
    "- **\"on\"** is the column or list of columns that determine which rows from one table match to which rows in the second table. Sometimes the columns you want to merge on have different names in the dataframes. For example, maybe one dataframe calls it RecordID while the other dataframe calls it RowID even though they are really the same ID. In those cases you can specify the column names separately for each dataframe using the \"left_on\" and \"right_on\" arguments. \n",
    "- **\"how\"** is the method to use, by default Pandas uses the \"inner\" method.\n",
    "\n",
    "Read the [Merge documentation](https://pandas.pydata.org/pandas-docs/stable/generated/pandas.DataFrame.merge.html) for more details on arguments.\n",
    "<br><br>\n",
    "\n",
    "\n",
    "\n",
    "Let's talk about the four merge methods: `Left, Right, Inner, Outer`\n",
    "\n",
    "We have four methods because when you merge dataframes, you're not always going to have a one-to-one match between the rows. These four methods affect how Pandas deals with un-matched data and that's what this kernel is going to cover.\n",
    "\n",
    "To illustrate an example of what I mean by \"merging on\" and \"matching\", here are a couple of dataframes that I made. The circled values are the ones that would match if we merged the dataframes on the \"ID\" column. \n",
    "\n",
    "\n",
    "Left Side | Right Side\n",
    ":-------------------------:|:--------------------:\n",
    "<img src=\"https://imgur.com/bKOhL4h.jpg\" alt=\"LEFT\"> |  <img src=\"https://imgur.com/zp9JmWL.jpg\"  alt='RIGHT'>\n",
    "\n"
   ]
  },
  {
   "cell_type": "markdown",
   "metadata": {
    "_cell_guid": "f2cdfc72-2f26-43c5-9a6a-8b5ef2bdfe4f",
    "_uuid": "ce43ddb7fc0d75c80b945644b4daf4167097bc26"
   },
   "source": [
    "## 1. Left Merge\n",
    "---\n",
    "In a Left Merge we are mostly concerned with data on the LEFT side but we would like to add data from the RIGHT side if it has some of the same ID's. \n",
    "\n",
    "To do that, we chop up the rows in the RIGHT dataframe and glue pieces of it onto the LEFT dataframe. Remember, we mostly care about the LEFT side and only want  data from the RIGHT side if it has any of the same ID's. So if something in the RIGHT dataframe doesn't match or doesn't exist then we have to do things to keep the columns the same length. We do that by either adding NaN to fill the void or discarding some rows entirely. \n",
    "\n",
    "In this example, the LEFT side has ID's 1, 2, 3, and 4:\n",
    "- The RIGHT side does not have ID's 1 or 2 so we add NaN's because we need columns to be the same length\n",
    "- The RIGHT side does have data for ID's 3 and 4 so we add it as a new column\n",
    "- The LEFT side does not have ID's 5 or 6 so we don't need that info from the RIGHT and it's discarded\n",
    "\n",
    "\n",
    "Left Side |  | Right Side\n",
    ":-------------------------:|:-------------------------:|:--------------------:\n",
    "<img src=\"https://imgur.com/bKOhL4h.jpg\" alt=\"LEFT\"> |   |  <img src=\"https://imgur.com/zp9JmWL.jpg\"  alt='RIGHT'>\n",
    "| Left Merged | \n",
    "| <img src=\"https://imgur.com/hGg40Po.jpg\" alt=\"left join\"> |"
   ]
  },
  {
   "cell_type": "code",
   "execution_count": 2,
   "metadata": {
    "_cell_guid": "92b16cb5-7f23-48cf-aa4f-bc139390fc6d",
    "_uuid": "1f9f0001ee39671e8bc4098af536539650433998"
   },
   "outputs": [
    {
     "data": {
      "text/html": [
       "<div>\n",
       "<style scoped>\n",
       "    .dataframe tbody tr th:only-of-type {\n",
       "        vertical-align: middle;\n",
       "    }\n",
       "\n",
       "    .dataframe tbody tr th {\n",
       "        vertical-align: top;\n",
       "    }\n",
       "\n",
       "    .dataframe thead th {\n",
       "        text-align: right;\n",
       "    }\n",
       "</style>\n",
       "<table border=\"1\" class=\"dataframe\">\n",
       "  <thead>\n",
       "    <tr style=\"text-align: right;\">\n",
       "      <th></th>\n",
       "      <th>ID</th>\n",
       "      <th>left_side</th>\n",
       "      <th>right_side</th>\n",
       "    </tr>\n",
       "  </thead>\n",
       "  <tbody>\n",
       "    <tr>\n",
       "      <th>0</th>\n",
       "      <td>1</td>\n",
       "      <td>LEFT</td>\n",
       "      <td>NaN</td>\n",
       "    </tr>\n",
       "    <tr>\n",
       "      <th>1</th>\n",
       "      <td>2</td>\n",
       "      <td>LEFT</td>\n",
       "      <td>NaN</td>\n",
       "    </tr>\n",
       "    <tr>\n",
       "      <th>2</th>\n",
       "      <td>3</td>\n",
       "      <td>LEFT</td>\n",
       "      <td>RIGHT</td>\n",
       "    </tr>\n",
       "    <tr>\n",
       "      <th>3</th>\n",
       "      <td>4</td>\n",
       "      <td>LEFT</td>\n",
       "      <td>RIGHT</td>\n",
       "    </tr>\n",
       "  </tbody>\n",
       "</table>\n",
       "</div>"
      ],
      "text/plain": [
       "   ID left_side right_side\n",
       "0   1      LEFT        NaN\n",
       "1   2      LEFT        NaN\n",
       "2   3      LEFT      RIGHT\n",
       "3   4      LEFT      RIGHT"
      ]
     },
     "execution_count": 2,
     "metadata": {},
     "output_type": "execute_result"
    }
   ],
   "source": [
    "# Left merge on \"ID\" column \n",
    "pd.merge(left=left_dataframe, right=right_dataframe, on=\"ID\", how=\"left\")"
   ]
  },
  {
   "cell_type": "markdown",
   "metadata": {
    "_cell_guid": "a65ff083-31e4-4c36-ba7d-3476f1c793b8",
    "_uuid": "99d2d90bcf904ab76f238a62f3c05030f7517c28"
   },
   "source": [
    "## 2. Right Merge\n",
    "---\n",
    "Right Merges work just like Left Merges, the difference is that we mostly care about the RIGHT side and would like to add data from the LEFT if it has matching ID's.\n",
    "\n",
    "\n",
    "\n",
    "Left Side |  | Right Side\n",
    ":-------------------------:|:-------------------------:|:--------------------:\n",
    "<img src=\"https://imgur.com/bKOhL4h.jpg\" alt=\"LEFT\"> |   |  <img src=\"https://imgur.com/zp9JmWL.jpg\"  alt='RIGHT'>\n",
    "| Right Merged | \n",
    "| <img src=\"https://imgur.com/GDfbxmT.jpg\" alt=\"Right Merge\"> |\n"
   ]
  },
  {
   "cell_type": "code",
   "execution_count": 3,
   "metadata": {
    "_cell_guid": "23b261a1-5057-4784-9ae6-a92b196c40c9",
    "_uuid": "4c65bbe92abf29521eadba2c2568dc81b40a7671"
   },
   "outputs": [
    {
     "data": {
      "text/html": [
       "<div>\n",
       "<style scoped>\n",
       "    .dataframe tbody tr th:only-of-type {\n",
       "        vertical-align: middle;\n",
       "    }\n",
       "\n",
       "    .dataframe tbody tr th {\n",
       "        vertical-align: top;\n",
       "    }\n",
       "\n",
       "    .dataframe thead th {\n",
       "        text-align: right;\n",
       "    }\n",
       "</style>\n",
       "<table border=\"1\" class=\"dataframe\">\n",
       "  <thead>\n",
       "    <tr style=\"text-align: right;\">\n",
       "      <th></th>\n",
       "      <th>ID</th>\n",
       "      <th>left_side</th>\n",
       "      <th>right_side</th>\n",
       "    </tr>\n",
       "  </thead>\n",
       "  <tbody>\n",
       "    <tr>\n",
       "      <th>0</th>\n",
       "      <td>3</td>\n",
       "      <td>LEFT</td>\n",
       "      <td>RIGHT</td>\n",
       "    </tr>\n",
       "    <tr>\n",
       "      <th>1</th>\n",
       "      <td>4</td>\n",
       "      <td>LEFT</td>\n",
       "      <td>RIGHT</td>\n",
       "    </tr>\n",
       "    <tr>\n",
       "      <th>2</th>\n",
       "      <td>5</td>\n",
       "      <td>NaN</td>\n",
       "      <td>RIGHT</td>\n",
       "    </tr>\n",
       "    <tr>\n",
       "      <th>3</th>\n",
       "      <td>6</td>\n",
       "      <td>NaN</td>\n",
       "      <td>RIGHT</td>\n",
       "    </tr>\n",
       "  </tbody>\n",
       "</table>\n",
       "</div>"
      ],
      "text/plain": [
       "   ID left_side right_side\n",
       "0   3      LEFT      RIGHT\n",
       "1   4      LEFT      RIGHT\n",
       "2   5       NaN      RIGHT\n",
       "3   6       NaN      RIGHT"
      ]
     },
     "execution_count": 3,
     "metadata": {},
     "output_type": "execute_result"
    }
   ],
   "source": [
    "# Code for a right merge\n",
    "pd.merge(left=left_dataframe, right=right_dataframe, on=\"ID\", how=\"right\")"
   ]
  },
  {
   "cell_type": "markdown",
   "metadata": {
    "_cell_guid": "b154dd13-1009-495b-873b-9377d50baa83",
    "_uuid": "240962a4d7f8f081b82bcd6597549184ef59a6d0"
   },
   "source": [
    "## 3. Inner Merge\n",
    "With an Inner Merge, we chop up both dataframes and only glue the stuff that matches. If an ID isn't in both dataframes, we don't keep it and we don't add NaN's.\n",
    "\n",
    "Left Side |  | Right Side\n",
    ":-------------------------:|:-------------------------:|:--------------------:\n",
    "<img src=\"https://imgur.com/bKOhL4h.jpg\" alt=\"LEFT\"> |   |  <img src=\"https://imgur.com/zp9JmWL.jpg\"  alt='RIGHT'>\n",
    "| Inner Merged | \n",
    "| <img src=\"https://imgur.com/juL2H0R.jpg\" alt=\"Right Merge\"> |\n"
   ]
  },
  {
   "cell_type": "code",
   "execution_count": 4,
   "metadata": {
    "_cell_guid": "ec695546-66c0-42e1-b0f2-5c7189f256b7",
    "_uuid": "0685333c74b9578fda962e82aaa146242a16c3de"
   },
   "outputs": [
    {
     "data": {
      "text/html": [
       "<div>\n",
       "<style scoped>\n",
       "    .dataframe tbody tr th:only-of-type {\n",
       "        vertical-align: middle;\n",
       "    }\n",
       "\n",
       "    .dataframe tbody tr th {\n",
       "        vertical-align: top;\n",
       "    }\n",
       "\n",
       "    .dataframe thead th {\n",
       "        text-align: right;\n",
       "    }\n",
       "</style>\n",
       "<table border=\"1\" class=\"dataframe\">\n",
       "  <thead>\n",
       "    <tr style=\"text-align: right;\">\n",
       "      <th></th>\n",
       "      <th>ID</th>\n",
       "      <th>left_side</th>\n",
       "      <th>right_side</th>\n",
       "    </tr>\n",
       "  </thead>\n",
       "  <tbody>\n",
       "    <tr>\n",
       "      <th>0</th>\n",
       "      <td>3</td>\n",
       "      <td>LEFT</td>\n",
       "      <td>RIGHT</td>\n",
       "    </tr>\n",
       "    <tr>\n",
       "      <th>1</th>\n",
       "      <td>4</td>\n",
       "      <td>LEFT</td>\n",
       "      <td>RIGHT</td>\n",
       "    </tr>\n",
       "  </tbody>\n",
       "</table>\n",
       "</div>"
      ],
      "text/plain": [
       "   ID left_side right_side\n",
       "0   3      LEFT      RIGHT\n",
       "1   4      LEFT      RIGHT"
      ]
     },
     "execution_count": 4,
     "metadata": {},
     "output_type": "execute_result"
    }
   ],
   "source": [
    "# Inner merge on ID column\n",
    "pd.merge(left=left_dataframe, right=right_dataframe, on=\"ID\", how=\"inner\")"
   ]
  },
  {
   "cell_type": "markdown",
   "metadata": {
    "_cell_guid": "8172e224-5329-4e42-995c-da171c80c0bb",
    "_uuid": "0803ff33b27a1faafdcb9c08aee6aa7f763389d3"
   },
   "source": [
    "## 4. Outer Merge\n",
    "With an Outer Merge, we chop up both dataframes and keep everything from both sides. Then we toss in NaN's to fill any blanks. \n",
    "\n",
    "Left Side |  | Right Side\n",
    ":-------------------------:|:-------------------------:|:--------------------:\n",
    "<img src=\"https://imgur.com/bKOhL4h.jpg\" alt=\"LEFT\"> |   |  <img src=\"https://imgur.com/zp9JmWL.jpg\"  alt='RIGHT'>\n",
    "|   Outer Merged |   \n",
    "| <img src=\"https://imgur.com/NZqgFf1.jpg\" alt=\"Right Merge\"> |\n"
   ]
  },
  {
   "cell_type": "code",
   "execution_count": 5,
   "metadata": {
    "_cell_guid": "d8cf47db-fd5d-490a-8dd7-0fbe3ebdbb12",
    "_uuid": "fa9df18da4427e3b45931060aa6be68036a3ac75"
   },
   "outputs": [
    {
     "data": {
      "text/html": [
       "<div>\n",
       "<style scoped>\n",
       "    .dataframe tbody tr th:only-of-type {\n",
       "        vertical-align: middle;\n",
       "    }\n",
       "\n",
       "    .dataframe tbody tr th {\n",
       "        vertical-align: top;\n",
       "    }\n",
       "\n",
       "    .dataframe thead th {\n",
       "        text-align: right;\n",
       "    }\n",
       "</style>\n",
       "<table border=\"1\" class=\"dataframe\">\n",
       "  <thead>\n",
       "    <tr style=\"text-align: right;\">\n",
       "      <th></th>\n",
       "      <th>ID</th>\n",
       "      <th>left_side</th>\n",
       "      <th>right_side</th>\n",
       "    </tr>\n",
       "  </thead>\n",
       "  <tbody>\n",
       "    <tr>\n",
       "      <th>0</th>\n",
       "      <td>1</td>\n",
       "      <td>LEFT</td>\n",
       "      <td>NaN</td>\n",
       "    </tr>\n",
       "    <tr>\n",
       "      <th>1</th>\n",
       "      <td>2</td>\n",
       "      <td>LEFT</td>\n",
       "      <td>NaN</td>\n",
       "    </tr>\n",
       "    <tr>\n",
       "      <th>2</th>\n",
       "      <td>3</td>\n",
       "      <td>LEFT</td>\n",
       "      <td>RIGHT</td>\n",
       "    </tr>\n",
       "    <tr>\n",
       "      <th>3</th>\n",
       "      <td>4</td>\n",
       "      <td>LEFT</td>\n",
       "      <td>RIGHT</td>\n",
       "    </tr>\n",
       "    <tr>\n",
       "      <th>4</th>\n",
       "      <td>5</td>\n",
       "      <td>NaN</td>\n",
       "      <td>RIGHT</td>\n",
       "    </tr>\n",
       "    <tr>\n",
       "      <th>5</th>\n",
       "      <td>6</td>\n",
       "      <td>NaN</td>\n",
       "      <td>RIGHT</td>\n",
       "    </tr>\n",
       "  </tbody>\n",
       "</table>\n",
       "</div>"
      ],
      "text/plain": [
       "   ID left_side right_side\n",
       "0   1      LEFT        NaN\n",
       "1   2      LEFT        NaN\n",
       "2   3      LEFT      RIGHT\n",
       "3   4      LEFT      RIGHT\n",
       "4   5       NaN      RIGHT\n",
       "5   6       NaN      RIGHT"
      ]
     },
     "execution_count": 5,
     "metadata": {},
     "output_type": "execute_result"
    }
   ],
   "source": [
    "# Outer merge on ID column\n",
    "pd.merge(left=left_dataframe, right=right_dataframe, on=\"ID\", how=\"outer\")"
   ]
  },
  {
   "cell_type": "markdown",
   "metadata": {
    "_cell_guid": "89a9f977-2112-4774-9fd7-67b08094c15d",
    "_uuid": "db5d3ba21f3c1960a476500bc836664dcf070565"
   },
   "source": [
    "# Example\n",
    "\n",
    "In these examples, we're merging actual restaurant ratings with parking lot info. I've highlighted the placeID columns because that's what we are merging on. You might want to fork this kernel and explore the final dataframes to see the differences when using the different merge methods. \n",
    "<br><br>\n",
    "\n",
    "Ratings |  Parking\n",
    ":-------------------------:|:--------------------:\n",
    "<img src=\"https://imgur.com/EX0MAr6.jpg\" width=400 alt=\"LEFT\">  | <img src=\"https://imgur.com/ZWwEZNR.jpg\" width=180  alt='RIGHT'>"
   ]
  },
  {
   "cell_type": "code",
   "execution_count": 11,
   "metadata": {
    "_cell_guid": "61751247-f5b3-47df-bba6-6f6e700d08d8",
    "_uuid": "50235d689cdce96397044c0947456f193729dad3"
   },
   "outputs": [
    {
     "data": {
      "text/html": [
       "<div>\n",
       "<style scoped>\n",
       "    .dataframe tbody tr th:only-of-type {\n",
       "        vertical-align: middle;\n",
       "    }\n",
       "\n",
       "    .dataframe tbody tr th {\n",
       "        vertical-align: top;\n",
       "    }\n",
       "\n",
       "    .dataframe thead th {\n",
       "        text-align: right;\n",
       "    }\n",
       "</style>\n",
       "<table border=\"1\" class=\"dataframe\">\n",
       "  <thead>\n",
       "    <tr style=\"text-align: right;\">\n",
       "      <th></th>\n",
       "      <th>userID</th>\n",
       "      <th>placeID</th>\n",
       "      <th>rating</th>\n",
       "      <th>food_rating</th>\n",
       "      <th>service_rating</th>\n",
       "      <th>parking_lot</th>\n",
       "    </tr>\n",
       "  </thead>\n",
       "  <tbody>\n",
       "    <tr>\n",
       "      <th>0</th>\n",
       "      <td>U1077</td>\n",
       "      <td>135085</td>\n",
       "      <td>2</td>\n",
       "      <td>2</td>\n",
       "      <td>2</td>\n",
       "      <td>public</td>\n",
       "    </tr>\n",
       "    <tr>\n",
       "      <th>1</th>\n",
       "      <td>U1077</td>\n",
       "      <td>135038</td>\n",
       "      <td>2</td>\n",
       "      <td>2</td>\n",
       "      <td>1</td>\n",
       "      <td>none</td>\n",
       "    </tr>\n",
       "    <tr>\n",
       "      <th>2</th>\n",
       "      <td>U1077</td>\n",
       "      <td>132825</td>\n",
       "      <td>2</td>\n",
       "      <td>2</td>\n",
       "      <td>2</td>\n",
       "      <td>none</td>\n",
       "    </tr>\n",
       "    <tr>\n",
       "      <th>3</th>\n",
       "      <td>U1077</td>\n",
       "      <td>135060</td>\n",
       "      <td>1</td>\n",
       "      <td>2</td>\n",
       "      <td>2</td>\n",
       "      <td>none</td>\n",
       "    </tr>\n",
       "    <tr>\n",
       "      <th>4</th>\n",
       "      <td>U1068</td>\n",
       "      <td>135104</td>\n",
       "      <td>1</td>\n",
       "      <td>1</td>\n",
       "      <td>2</td>\n",
       "      <td>yes</td>\n",
       "    </tr>\n",
       "  </tbody>\n",
       "</table>\n",
       "</div>"
      ],
      "text/plain": [
       "  userID  placeID  rating  food_rating  service_rating parking_lot\n",
       "0  U1077   135085       2            2               2      public\n",
       "1  U1077   135038       2            2               1        none\n",
       "2  U1077   132825       2            2               2        none\n",
       "3  U1077   135060       1            2               2        none\n",
       "4  U1068   135104       1            1               2         yes"
      ]
     },
     "execution_count": 11,
     "metadata": {},
     "output_type": "execute_result"
    }
   ],
   "source": [
    "# Load restaurant ratings and parking data into dataframes\n",
    "ratings = pd.read_csv(\"rating_final.csv\")\n",
    "parking = pd.read_csv(\"chefmozparking.csv\")\n",
    "\n",
    "# Left merge: Keep everything from the left, drop things from the right (if they don't match)\n",
    "left_merge = pd.merge(left=ratings, right=parking, on=\"placeID\", how=\"left\")\n",
    "left_merge.head()"
   ]
  },
  {
   "cell_type": "markdown",
   "metadata": {
    "_cell_guid": "61d81ead-446a-4f2c-a5fd-c28410004e69",
    "_uuid": "11719a5c19b61b751f89b0cb53a30eb30f61f3c2"
   },
   "source": [
    "# Conclusion\n",
    "\n",
    "In this tutorial you've seen how to merge dataframes together using the four methods, `Left, Right, Inner, and Outer`. These are the basic merge methods you can use to merge data based on common values in some column. There are also different ways to merge \"on.\" For example, you can merge \"on\" the indexes. Or as mentioned at the beginning, sometimes the columns you want to merge on have different names so you can specify the column names separately for each dataframe using the \"left_on\" and \"right_on\" arguments. This tutorial hasn't covered that so take a look at the [Merge documentation](https://pandas.pydata.org/pandas-docs/stable/generated/pandas.DataFrame.merge.html) to see the other ways you can merge data with Pandas.\n",
    "<br><br>\n",
    "\n",
    "If you're feeling confident with Merge, then <a href=\"https://www.kaggle.com/crawford/python-groupby-tutorial\" alt=\"Click here to continue to the Groupby Tutorial\">click here</a> to continue to the Python Groupby Tutorial."
   ]
  }
 ],
 "metadata": {
  "kernelspec": {
   "display_name": "Python 3",
   "language": "python",
   "name": "python3"
  },
  "language_info": {
   "codemirror_mode": {
    "name": "ipython",
    "version": 3
   },
   "file_extension": ".py",
   "mimetype": "text/x-python",
   "name": "python",
   "nbconvert_exporter": "python",
   "pygments_lexer": "ipython3",
   "version": "3.7.1"
  }
 },
 "nbformat": 4,
 "nbformat_minor": 1
}
